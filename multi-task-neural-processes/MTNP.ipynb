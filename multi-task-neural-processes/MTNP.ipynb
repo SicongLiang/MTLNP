{
 "cells": [
  {
   "cell_type": "code",
   "execution_count": 1,
   "metadata": {},
   "outputs": [],
   "source": [
    "import numpy as np\n",
    "import matplotlib.pyplot as plt\n",
    "import torch\n",
    "# %matplotlib inline\n",
    "\n",
    "device = torch.device(\"cuda\" if torch.cuda.is_available() else \"cpu\")"
   ]
  },
  {
   "cell_type": "code",
   "execution_count": 3,
   "metadata": {},
   "outputs": [],
   "source": [
    "# path  = r'./datasets/FeatureVector'\n",
    "# print(path)\n",
    "# import os"
   ]
  },
  {
   "cell_type": "code",
   "execution_count": 4,
   "metadata": {},
   "outputs": [],
   "source": [
    "# csvs =  os.listdir(path)\n",
    "# print(csvs)"
   ]
  },
  {
   "cell_type": "code",
   "execution_count": 2,
   "metadata": {},
   "outputs": [],
   "source": [
    "from datasets.datasets import FaceFeatureData\n",
    "\n",
    "# Create dataset\n",
    "\n",
    "# 3 tasks\n",
    "num_of_people = 3\n",
    "# 18 examples\n",
    "num_of_images=18\n",
    "dataset = FaceFeatureData(num_of_people=num_of_people,num_of_images=num_of_images)\n",
    "\n",
    "#82 different people(batch_num)\n",
    "#18 different images each people(batch_size)\n",
    "#x_dim = 2048"
   ]
  },
  {
   "cell_type": "code",
   "execution_count": 3,
   "metadata": {},
   "outputs": [],
   "source": [
    "from model.NeuralProcessModel import NeuralProcess, NeuralProcessEncoder, NeuralProcessDecoder\n",
    "\n",
    "# Build Neural Process\n",
    "\n",
    "x_dim = 2048\n",
    "y_dim = 1\n",
    "r_dim = 50  # Dimension of representation of context points\n",
    "z_dim = 50  # Dimension of sampled latent variable\n",
    "h_dim = 50  # Dimension of hidden layers in encoder and decoder\n",
    "\n",
    "# neuralprocess = NeuralProcess(x_dim, y_dim, r_dim, z_dim, h_dim)\n",
    "neuralprocess = {} # a dict\n",
    "neuralprocess['encoder'] = NeuralProcessEncoder(x_dim, y_dim, r_dim, z_dim, h_dim)#.to(device)\n",
    "# neuralprocess_decoder = {} # a dict\n",
    "for i in range(num_of_people):\n",
    "    neuralprocess[i] = NeuralProcessDecoder(x_dim, y_dim, z_dim, h_dim)#.to(device)"
   ]
  },
  {
   "cell_type": "code",
   "execution_count": 4,
   "metadata": {},
   "outputs": [
    {
     "name": "stdout",
     "output_type": "stream",
     "text": [
      "{'encoder': NeuralProcessEncoder(\n",
      "  (xy_to_r): Encoder(\n",
      "    (input_to_hidden): Sequential(\n",
      "      (0): Linear(in_features=2049, out_features=50, bias=True)\n",
      "      (1): ReLU(inplace=True)\n",
      "      (2): Linear(in_features=50, out_features=50, bias=True)\n",
      "      (3): ReLU(inplace=True)\n",
      "      (4): Linear(in_features=50, out_features=50, bias=True)\n",
      "    )\n",
      "  )\n",
      "  (r_to_mu_sigma): MuSigmaEncoder(\n",
      "    (r_to_hidden): Linear(in_features=50, out_features=50, bias=True)\n",
      "    (hidden_to_mu): Linear(in_features=50, out_features=50, bias=True)\n",
      "    (hidden_to_sigma): Linear(in_features=50, out_features=50, bias=True)\n",
      "  )\n",
      "), 0: NeuralProcessDecoder(\n",
      "  (xz_to_y): Decoder(\n",
      "    (xz_to_hidden): Sequential(\n",
      "      (0): Linear(in_features=2098, out_features=50, bias=True)\n",
      "      (1): ReLU(inplace=True)\n",
      "      (2): Linear(in_features=50, out_features=50, bias=True)\n",
      "      (3): ReLU(inplace=True)\n",
      "      (4): Linear(in_features=50, out_features=50, bias=True)\n",
      "      (5): ReLU(inplace=True)\n",
      "    )\n",
      "    (hidden_to_mu): Linear(in_features=50, out_features=1, bias=True)\n",
      "    (hidden_to_sigma): Linear(in_features=50, out_features=1, bias=True)\n",
      "  )\n",
      "), 1: NeuralProcessDecoder(\n",
      "  (xz_to_y): Decoder(\n",
      "    (xz_to_hidden): Sequential(\n",
      "      (0): Linear(in_features=2098, out_features=50, bias=True)\n",
      "      (1): ReLU(inplace=True)\n",
      "      (2): Linear(in_features=50, out_features=50, bias=True)\n",
      "      (3): ReLU(inplace=True)\n",
      "      (4): Linear(in_features=50, out_features=50, bias=True)\n",
      "      (5): ReLU(inplace=True)\n",
      "    )\n",
      "    (hidden_to_mu): Linear(in_features=50, out_features=1, bias=True)\n",
      "    (hidden_to_sigma): Linear(in_features=50, out_features=1, bias=True)\n",
      "  )\n",
      "), 2: NeuralProcessDecoder(\n",
      "  (xz_to_y): Decoder(\n",
      "    (xz_to_hidden): Sequential(\n",
      "      (0): Linear(in_features=2098, out_features=50, bias=True)\n",
      "      (1): ReLU(inplace=True)\n",
      "      (2): Linear(in_features=50, out_features=50, bias=True)\n",
      "      (3): ReLU(inplace=True)\n",
      "      (4): Linear(in_features=50, out_features=50, bias=True)\n",
      "      (5): ReLU(inplace=True)\n",
      "    )\n",
      "    (hidden_to_mu): Linear(in_features=50, out_features=1, bias=True)\n",
      "    (hidden_to_sigma): Linear(in_features=50, out_features=1, bias=True)\n",
      "  )\n",
      ")}\n"
     ]
    }
   ],
   "source": [
    "print(neuralprocess)"
   ]
  },
  {
   "cell_type": "code",
   "execution_count": 5,
   "metadata": {},
   "outputs": [],
   "source": [
    "# print(neuralprocess_encoder)"
   ]
  },
  {
   "cell_type": "code",
   "execution_count": 6,
   "metadata": {},
   "outputs": [],
   "source": [
    "# print(neuralprocess_decoder)"
   ]
  },
  {
   "cell_type": "code",
   "execution_count": 12,
   "metadata": {},
   "outputs": [],
   "source": [
    "# i = 0\n",
    "# for child in neuralprocess.children():\n",
    "#     i += 1\n",
    "#     print(i)\n",
    "#     print(child)\n",
    "    \n",
    "#     break"
   ]
  },
  {
   "cell_type": "code",
   "execution_count": 5,
   "metadata": {},
   "outputs": [],
   "source": [
    "# for param in neuralprocess_encoder.parameters():\n",
    "#     print(param)"
   ]
  },
  {
   "cell_type": "code",
   "execution_count": 11,
   "metadata": {},
   "outputs": [
    {
     "name": "stdout",
     "output_type": "stream",
     "text": [
      "<class 'base.base_trainer.BaseTrainer'>\n"
     ]
    }
   ],
   "source": [
    "from base import BaseTrainer\n",
    "print(BaseTrainer)"
   ]
  },
  {
   "cell_type": "code",
   "execution_count": 5,
   "metadata": {},
   "outputs": [
    {
     "name": "stdout",
     "output_type": "stream",
     "text": [
      "Epoch: 0, Avg_loss: 47565.078776041664\n",
      "Epoch: 1, Avg_loss: 44845.426432291664\n",
      "Epoch: 2, Avg_loss: 43311.155598958336\n",
      "Epoch: 3, Avg_loss: 40312.158203125\n",
      "Epoch: 4, Avg_loss: 37905.376953125\n",
      "Epoch: 5, Avg_loss: 34328.934244791664\n",
      "Epoch: 6, Avg_loss: 30850.948567708332\n",
      "Epoch: 7, Avg_loss: 28452.8115234375\n",
      "Epoch: 8, Avg_loss: 24693.809244791668\n",
      "Epoch: 9, Avg_loss: 22288.2265625\n",
      "Epoch: 10, Avg_loss: 19221.315755208332\n",
      "Epoch: 11, Avg_loss: 16750.002766927082\n",
      "Epoch: 12, Avg_loss: 14300.51953125\n",
      "Epoch: 13, Avg_loss: 11520.989908854166\n",
      "Epoch: 14, Avg_loss: 9721.62890625\n",
      "Epoch: 15, Avg_loss: 8430.94677734375\n",
      "Epoch: 16, Avg_loss: 7271.582194010417\n",
      "Epoch: 17, Avg_loss: 5840.886881510417\n",
      "Epoch: 18, Avg_loss: 4803.909993489583\n",
      "Epoch: 19, Avg_loss: 4010.4202880859375\n",
      "Epoch: 20, Avg_loss: 3318.81689453125\n",
      "Epoch: 21, Avg_loss: 2914.216512044271\n",
      "Epoch: 22, Avg_loss: 2373.3849283854165\n",
      "Epoch: 23, Avg_loss: 1913.0706380208333\n",
      "Epoch: 24, Avg_loss: 1555.4127197265625\n",
      "Epoch: 25, Avg_loss: 1187.155985514323\n",
      "Epoch: 26, Avg_loss: 1054.2140502929688\n",
      "Epoch: 27, Avg_loss: 849.2466023763021\n",
      "Epoch: 28, Avg_loss: 720.1410624186198\n",
      "Epoch: 29, Avg_loss: 657.2278238932291\n",
      "Epoch: 30, Avg_loss: 566.9135335286459\n",
      "Epoch: 31, Avg_loss: 486.66208902994794\n",
      "Epoch: 32, Avg_loss: 467.83319091796875\n",
      "Epoch: 33, Avg_loss: 413.70827229817706\n",
      "Epoch: 34, Avg_loss: 394.7127278645833\n",
      "Epoch: 35, Avg_loss: 368.9181315104167\n",
      "Epoch: 36, Avg_loss: 363.7116190592448\n",
      "Epoch: 37, Avg_loss: 344.8345642089844\n",
      "Epoch: 38, Avg_loss: 327.7802022298177\n",
      "Epoch: 39, Avg_loss: 337.4814046223958\n",
      "Epoch: 40, Avg_loss: 322.9532877604167\n",
      "Epoch: 41, Avg_loss: 318.37964884440106\n",
      "Epoch: 42, Avg_loss: 305.4208679199219\n",
      "Epoch: 43, Avg_loss: 321.1770731608073\n",
      "Epoch: 44, Avg_loss: 305.26202392578125\n",
      "Epoch: 45, Avg_loss: 292.0868428548177\n",
      "Epoch: 46, Avg_loss: 289.5818277994792\n",
      "Epoch: 47, Avg_loss: 281.6446838378906\n",
      "Epoch: 48, Avg_loss: 279.06809488932294\n",
      "Epoch: 49, Avg_loss: 276.4411112467448\n",
      "Epoch: 50, Avg_loss: 302.0139973958333\n",
      "Epoch: 51, Avg_loss: 281.8918100992839\n",
      "Epoch: 52, Avg_loss: 265.8294626871745\n",
      "Epoch: 53, Avg_loss: 277.64491780598956\n",
      "Epoch: 54, Avg_loss: 275.8291422526042\n",
      "Epoch: 55, Avg_loss: 261.6330871582031\n",
      "Epoch: 56, Avg_loss: 280.9767150878906\n",
      "Epoch: 57, Avg_loss: 260.2734120686849\n",
      "Epoch: 58, Avg_loss: 267.34580485026044\n",
      "Epoch: 59, Avg_loss: 265.80707295735675\n",
      "Epoch: 60, Avg_loss: 272.1626485188802\n",
      "Epoch: 61, Avg_loss: 261.40199788411456\n",
      "Epoch: 62, Avg_loss: 269.9881896972656\n",
      "Epoch: 63, Avg_loss: 258.6094462076823\n",
      "Epoch: 64, Avg_loss: 261.4791259765625\n",
      "Epoch: 65, Avg_loss: 257.8108723958333\n",
      "Epoch: 66, Avg_loss: 257.54649861653644\n",
      "Epoch: 67, Avg_loss: 252.18565877278647\n",
      "Epoch: 68, Avg_loss: 253.2401580810547\n",
      "Epoch: 69, Avg_loss: 266.80373128255206\n",
      "Epoch: 70, Avg_loss: 251.2459920247396\n",
      "Epoch: 71, Avg_loss: 253.74886576334634\n",
      "Epoch: 72, Avg_loss: 250.97210693359375\n",
      "Epoch: 73, Avg_loss: 254.30042521158853\n",
      "Epoch: 74, Avg_loss: 255.97974650065103\n",
      "Epoch: 75, Avg_loss: 253.81368001302084\n",
      "Epoch: 76, Avg_loss: 252.09016927083334\n",
      "Epoch: 77, Avg_loss: 261.72551981608075\n",
      "Epoch: 78, Avg_loss: 255.34077962239584\n",
      "Epoch: 79, Avg_loss: 254.0164540608724\n",
      "Epoch: 80, Avg_loss: 245.20235697428384\n",
      "Epoch: 81, Avg_loss: 257.611083984375\n",
      "Epoch: 82, Avg_loss: 246.39904276529947\n",
      "Epoch: 83, Avg_loss: 250.701171875\n",
      "Epoch: 84, Avg_loss: 257.5780334472656\n",
      "Epoch: 85, Avg_loss: 246.92344665527344\n",
      "Epoch: 86, Avg_loss: 245.1351521809896\n",
      "Epoch: 87, Avg_loss: 246.65177408854166\n",
      "Epoch: 88, Avg_loss: 247.07312520345053\n",
      "Epoch: 89, Avg_loss: 246.62126668294272\n",
      "Epoch: 90, Avg_loss: 248.06273396809897\n",
      "Epoch: 91, Avg_loss: 249.31643676757812\n",
      "Epoch: 92, Avg_loss: 254.61577351888022\n",
      "Epoch: 93, Avg_loss: 243.50366719563803\n",
      "Epoch: 94, Avg_loss: 248.53069559733072\n",
      "Epoch: 95, Avg_loss: 247.6875\n",
      "Epoch: 96, Avg_loss: 245.9648234049479\n",
      "Epoch: 97, Avg_loss: 248.0035858154297\n",
      "Epoch: 98, Avg_loss: 251.07984924316406\n",
      "Epoch: 99, Avg_loss: 244.35800170898438\n"
     ]
    },
    {
     "data": {
      "image/png": "[encoded data removed]",
      "text/plain": [
       "<Figure size 432x288 with 1 Axes>"
      ]
     },
     "metadata": {
      "needs_background": "light"
     },
     "output_type": "display_data"
    }
   ],
   "source": [
    "# Training\n",
    "\n",
    "from torch.utils.data import DataLoader\n",
    "from trainer.NP_trainer import MultiTaskNeuralProcessTrainer\n",
    "from data_loader.data_loader import FGNetDataLoader\n",
    "\n",
    "batch_size = 1\n",
    "# num of training set = 17\n",
    "num_context = 17\n",
    "# num of test set = 1\n",
    "num_target = 1\n",
    "\n",
    "\n",
    "data_loader = FGNetDataLoader(dataset=dataset, batch_size=batch_size, shuffle=True)\n",
    "\n",
    "# All params = param of shared part + task_num * param of task-specific part\n",
    "model_params = []\n",
    "model_params += neuralprocess['encoder'].parameters()\n",
    "for i in range(num_of_people):\n",
    "    model_params += neuralprocess[i].parameters() \n",
    "\n",
    "optimizer = torch.optim.Adam(model_params, lr=3e-4)\n",
    "mtnp_trainer = MultiTaskNeuralProcessTrainer(device, neuralprocess, optimizer,\n",
    "                                  num_context_range=(num_context, num_context),\n",
    "                                  num_extra_target_range=(num_target, num_target), \n",
    "                                  data_loader = data_loader, task_num = num_of_people)\n",
    "\n",
    "neuralprocess['encoder'].training = True\n",
    "# neuralprocess_decoder don't need to distinguish the state of training\n",
    "\n",
    "mtnp_trainer.train(100)\n",
    "#save first model parameters trained on the whole dataset\n",
    "# torch.save(neuralprocess.state_dict(), r'D:\\PycharmProjects\\ANP\\neural-processes\\trained_models\\age_estimation\\firstWholeTrained.ckpt')\n",
    "plt.plot(range(len(mtnp_trainer.epoch_loss_history)),mtnp_trainer.epoch_loss_history)\n",
    "plt.show()"
   ]
  }
 ],
 "metadata": {
  "kernelspec": {
   "display_name": "Python 3",
   "language": "python",
   "name": "python3"
  },
  "language_info": {
   "codemirror_mode": {
    "name": "ipython",
    "version": 3
   },
   "file_extension": ".py",
   "mimetype": "text/x-python",
   "name": "python",
   "nbconvert_exporter": "python",
   "pygments_lexer": "ipython3",
   "version": "3.6.5"
  }
 },
 "nbformat": 4,
 "nbformat_minor": 4
}
